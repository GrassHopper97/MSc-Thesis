{
 "cells": [
  {
   "cell_type": "code",
   "execution_count": 1,
   "metadata": {},
   "outputs": [
    {
     "data": {
      "text/plain": [
       "sys.version_info(major=3, minor=10, micro=13, releaselevel='final', serial=0)"
      ]
     },
     "execution_count": 1,
     "metadata": {},
     "output_type": "execute_result"
    }
   ],
   "source": [
    "import sys\n",
    "sys.version_info"
   ]
  },
  {
   "cell_type": "code",
   "execution_count": 2,
   "metadata": {},
   "outputs": [],
   "source": [
    "import requests as rq\n",
    "import pandas as pd\n",
    "import datetime"
   ]
  },
  {
   "cell_type": "code",
   "execution_count": null,
   "metadata": {},
   "outputs": [],
   "source": [
    "pip install bs4"
   ]
  },
  {
   "cell_type": "code",
   "execution_count": 18,
   "metadata": {},
   "outputs": [
    {
     "name": "stdout",
     "output_type": "stream",
     "text": [
      "Collecting lxml\n",
      "  Downloading lxml-5.2.1-cp310-cp310-win_amd64.whl.metadata (3.5 kB)\n",
      "Downloading lxml-5.2.1-cp310-cp310-win_amd64.whl (3.8 MB)\n",
      "   ---------------------------------------- 0.0/3.8 MB ? eta -:--:--\n",
      "   ---------------------------------------- 0.0/3.8 MB 1.3 MB/s eta 0:00:03\n",
      "   - -------------------------------------- 0.1/3.8 MB 1.5 MB/s eta 0:00:03\n",
      "   -- ------------------------------------- 0.3/3.8 MB 2.0 MB/s eta 0:00:02\n",
      "   ----- ---------------------------------- 0.5/3.8 MB 3.0 MB/s eta 0:00:02\n",
      "   ------- -------------------------------- 0.7/3.8 MB 3.8 MB/s eta 0:00:01\n",
      "   ---------- ----------------------------- 1.0/3.8 MB 4.4 MB/s eta 0:00:01\n",
      "   ----------------- ---------------------- 1.7/3.8 MB 5.9 MB/s eta 0:00:01\n",
      "   --------------------------------- ------ 3.2/3.8 MB 9.8 MB/s eta 0:00:01\n",
      "   ---------------------------------------  3.8/3.8 MB 11.0 MB/s eta 0:00:01\n",
      "   ---------------------------------------  3.8/3.8 MB 11.0 MB/s eta 0:00:01\n",
      "   ---------------------------------------- 3.8/3.8 MB 8.7 MB/s eta 0:00:00\n",
      "Installing collected packages: lxml\n",
      "Successfully installed lxml-5.2.1\n",
      "Note: you may need to restart the kernel to use updated packages.\n"
     ]
    }
   ],
   "source": [
    "pip install lxml"
   ]
  },
  {
   "cell_type": "code",
   "execution_count": 3,
   "metadata": {},
   "outputs": [],
   "source": [
    "from bs4 import BeautifulSoup as bss\n",
    "import csv"
   ]
  },
  {
   "cell_type": "code",
   "execution_count": 4,
   "metadata": {},
   "outputs": [],
   "source": [
    "\n",
    "# Base URL\n",
    "base_url = 'http://aws.imd.gov.in:8091/AWS/dataviewrain.php?a=AWS&b=UTTARAKHAND&c='\n"
   ]
  },
  {
   "cell_type": "code",
   "execution_count": 31,
   "metadata": {},
   "outputs": [],
   "source": [
    "# Start date\n",
    "start_date = datetime.date(2022, 9, 1)\n",
    "\n",
    "# End date\n",
    "end_date = datetime.date(2022, 9, 30)"
   ]
  },
  {
   "cell_type": "code",
   "execution_count": 32,
   "metadata": {},
   "outputs": [
    {
     "name": "stderr",
     "output_type": "stream",
     "text": [
      "C:\\Users\\mgi22-031613955\\AppData\\Local\\Temp\\ipykernel_1336\\1126632336.py:15: FutureWarning: Passing literal html to 'read_html' is deprecated and will be removed in a future version. To read from a literal string, wrap it in a 'StringIO' object.\n",
      "  dfs = pd.read_html(str(table))\n"
     ]
    },
    {
     "name": "stdout",
     "output_type": "stream",
     "text": [
      "Data for 01th September 2022 downloaded and saved to C:/Users/mgi22-031613955/OneDrive - IIRS/THESIS/Data/2022/Sept 22/01th_September_22.csv\n"
     ]
    },
    {
     "name": "stderr",
     "output_type": "stream",
     "text": [
      "C:\\Users\\mgi22-031613955\\AppData\\Local\\Temp\\ipykernel_1336\\1126632336.py:15: FutureWarning: Passing literal html to 'read_html' is deprecated and will be removed in a future version. To read from a literal string, wrap it in a 'StringIO' object.\n",
      "  dfs = pd.read_html(str(table))\n"
     ]
    },
    {
     "name": "stdout",
     "output_type": "stream",
     "text": [
      "Data for 02th September 2022 downloaded and saved to C:/Users/mgi22-031613955/OneDrive - IIRS/THESIS/Data/2022/Sept 22/02th_September_22.csv\n"
     ]
    },
    {
     "name": "stderr",
     "output_type": "stream",
     "text": [
      "C:\\Users\\mgi22-031613955\\AppData\\Local\\Temp\\ipykernel_1336\\1126632336.py:15: FutureWarning: Passing literal html to 'read_html' is deprecated and will be removed in a future version. To read from a literal string, wrap it in a 'StringIO' object.\n",
      "  dfs = pd.read_html(str(table))\n"
     ]
    },
    {
     "name": "stdout",
     "output_type": "stream",
     "text": [
      "Data for 03th September 2022 downloaded and saved to C:/Users/mgi22-031613955/OneDrive - IIRS/THESIS/Data/2022/Sept 22/03th_September_22.csv\n"
     ]
    },
    {
     "name": "stderr",
     "output_type": "stream",
     "text": [
      "C:\\Users\\mgi22-031613955\\AppData\\Local\\Temp\\ipykernel_1336\\1126632336.py:15: FutureWarning: Passing literal html to 'read_html' is deprecated and will be removed in a future version. To read from a literal string, wrap it in a 'StringIO' object.\n",
      "  dfs = pd.read_html(str(table))\n"
     ]
    },
    {
     "name": "stdout",
     "output_type": "stream",
     "text": [
      "Data for 04th September 2022 downloaded and saved to C:/Users/mgi22-031613955/OneDrive - IIRS/THESIS/Data/2022/Sept 22/04th_September_22.csv\n"
     ]
    },
    {
     "name": "stderr",
     "output_type": "stream",
     "text": [
      "C:\\Users\\mgi22-031613955\\AppData\\Local\\Temp\\ipykernel_1336\\1126632336.py:15: FutureWarning: Passing literal html to 'read_html' is deprecated and will be removed in a future version. To read from a literal string, wrap it in a 'StringIO' object.\n",
      "  dfs = pd.read_html(str(table))\n"
     ]
    },
    {
     "name": "stdout",
     "output_type": "stream",
     "text": [
      "Data for 05th September 2022 downloaded and saved to C:/Users/mgi22-031613955/OneDrive - IIRS/THESIS/Data/2022/Sept 22/05th_September_22.csv\n"
     ]
    },
    {
     "name": "stderr",
     "output_type": "stream",
     "text": [
      "C:\\Users\\mgi22-031613955\\AppData\\Local\\Temp\\ipykernel_1336\\1126632336.py:15: FutureWarning: Passing literal html to 'read_html' is deprecated and will be removed in a future version. To read from a literal string, wrap it in a 'StringIO' object.\n",
      "  dfs = pd.read_html(str(table))\n"
     ]
    },
    {
     "name": "stdout",
     "output_type": "stream",
     "text": [
      "Data for 06th September 2022 downloaded and saved to C:/Users/mgi22-031613955/OneDrive - IIRS/THESIS/Data/2022/Sept 22/06th_September_22.csv\n"
     ]
    },
    {
     "name": "stderr",
     "output_type": "stream",
     "text": [
      "C:\\Users\\mgi22-031613955\\AppData\\Local\\Temp\\ipykernel_1336\\1126632336.py:15: FutureWarning: Passing literal html to 'read_html' is deprecated and will be removed in a future version. To read from a literal string, wrap it in a 'StringIO' object.\n",
      "  dfs = pd.read_html(str(table))\n",
      "C:\\Users\\mgi22-031613955\\AppData\\Local\\Temp\\ipykernel_1336\\1126632336.py:15: FutureWarning: Passing literal html to 'read_html' is deprecated and will be removed in a future version. To read from a literal string, wrap it in a 'StringIO' object.\n",
      "  dfs = pd.read_html(str(table))\n"
     ]
    },
    {
     "name": "stdout",
     "output_type": "stream",
     "text": [
      "Data for 07th September 2022 downloaded and saved to C:/Users/mgi22-031613955/OneDrive - IIRS/THESIS/Data/2022/Sept 22/07th_September_22.csv\n",
      "Data for 08th September 2022 downloaded and saved to C:/Users/mgi22-031613955/OneDrive - IIRS/THESIS/Data/2022/Sept 22/08th_September_22.csv\n"
     ]
    },
    {
     "name": "stderr",
     "output_type": "stream",
     "text": [
      "C:\\Users\\mgi22-031613955\\AppData\\Local\\Temp\\ipykernel_1336\\1126632336.py:15: FutureWarning: Passing literal html to 'read_html' is deprecated and will be removed in a future version. To read from a literal string, wrap it in a 'StringIO' object.\n",
      "  dfs = pd.read_html(str(table))\n"
     ]
    },
    {
     "name": "stdout",
     "output_type": "stream",
     "text": [
      "Data for 09th September 2022 downloaded and saved to C:/Users/mgi22-031613955/OneDrive - IIRS/THESIS/Data/2022/Sept 22/09th_September_22.csv\n"
     ]
    },
    {
     "name": "stderr",
     "output_type": "stream",
     "text": [
      "C:\\Users\\mgi22-031613955\\AppData\\Local\\Temp\\ipykernel_1336\\1126632336.py:15: FutureWarning: Passing literal html to 'read_html' is deprecated and will be removed in a future version. To read from a literal string, wrap it in a 'StringIO' object.\n",
      "  dfs = pd.read_html(str(table))\n"
     ]
    },
    {
     "name": "stdout",
     "output_type": "stream",
     "text": [
      "Data for 10th September 2022 downloaded and saved to C:/Users/mgi22-031613955/OneDrive - IIRS/THESIS/Data/2022/Sept 22/10th_September_22.csv\n"
     ]
    },
    {
     "name": "stderr",
     "output_type": "stream",
     "text": [
      "C:\\Users\\mgi22-031613955\\AppData\\Local\\Temp\\ipykernel_1336\\1126632336.py:15: FutureWarning: Passing literal html to 'read_html' is deprecated and will be removed in a future version. To read from a literal string, wrap it in a 'StringIO' object.\n",
      "  dfs = pd.read_html(str(table))\n"
     ]
    },
    {
     "name": "stdout",
     "output_type": "stream",
     "text": [
      "Data for 11th September 2022 downloaded and saved to C:/Users/mgi22-031613955/OneDrive - IIRS/THESIS/Data/2022/Sept 22/11th_September_22.csv\n"
     ]
    },
    {
     "name": "stderr",
     "output_type": "stream",
     "text": [
      "C:\\Users\\mgi22-031613955\\AppData\\Local\\Temp\\ipykernel_1336\\1126632336.py:15: FutureWarning: Passing literal html to 'read_html' is deprecated and will be removed in a future version. To read from a literal string, wrap it in a 'StringIO' object.\n",
      "  dfs = pd.read_html(str(table))\n",
      "C:\\Users\\mgi22-031613955\\AppData\\Local\\Temp\\ipykernel_1336\\1126632336.py:15: FutureWarning: Passing literal html to 'read_html' is deprecated and will be removed in a future version. To read from a literal string, wrap it in a 'StringIO' object.\n",
      "  dfs = pd.read_html(str(table))\n"
     ]
    },
    {
     "name": "stdout",
     "output_type": "stream",
     "text": [
      "Data for 12th September 2022 downloaded and saved to C:/Users/mgi22-031613955/OneDrive - IIRS/THESIS/Data/2022/Sept 22/12th_September_22.csv\n",
      "Data for 13th September 2022 downloaded and saved to C:/Users/mgi22-031613955/OneDrive - IIRS/THESIS/Data/2022/Sept 22/13th_September_22.csv\n"
     ]
    },
    {
     "name": "stderr",
     "output_type": "stream",
     "text": [
      "C:\\Users\\mgi22-031613955\\AppData\\Local\\Temp\\ipykernel_1336\\1126632336.py:15: FutureWarning: Passing literal html to 'read_html' is deprecated and will be removed in a future version. To read from a literal string, wrap it in a 'StringIO' object.\n",
      "  dfs = pd.read_html(str(table))\n"
     ]
    },
    {
     "name": "stdout",
     "output_type": "stream",
     "text": [
      "Data for 14th September 2022 downloaded and saved to C:/Users/mgi22-031613955/OneDrive - IIRS/THESIS/Data/2022/Sept 22/14th_September_22.csv\n"
     ]
    },
    {
     "name": "stderr",
     "output_type": "stream",
     "text": [
      "C:\\Users\\mgi22-031613955\\AppData\\Local\\Temp\\ipykernel_1336\\1126632336.py:15: FutureWarning: Passing literal html to 'read_html' is deprecated and will be removed in a future version. To read from a literal string, wrap it in a 'StringIO' object.\n",
      "  dfs = pd.read_html(str(table))\n"
     ]
    },
    {
     "name": "stdout",
     "output_type": "stream",
     "text": [
      "Data for 15th September 2022 downloaded and saved to C:/Users/mgi22-031613955/OneDrive - IIRS/THESIS/Data/2022/Sept 22/15th_September_22.csv\n"
     ]
    },
    {
     "name": "stderr",
     "output_type": "stream",
     "text": [
      "C:\\Users\\mgi22-031613955\\AppData\\Local\\Temp\\ipykernel_1336\\1126632336.py:15: FutureWarning: Passing literal html to 'read_html' is deprecated and will be removed in a future version. To read from a literal string, wrap it in a 'StringIO' object.\n",
      "  dfs = pd.read_html(str(table))\n"
     ]
    },
    {
     "name": "stdout",
     "output_type": "stream",
     "text": [
      "Data for 16th September 2022 downloaded and saved to C:/Users/mgi22-031613955/OneDrive - IIRS/THESIS/Data/2022/Sept 22/16th_September_22.csv\n"
     ]
    },
    {
     "name": "stderr",
     "output_type": "stream",
     "text": [
      "C:\\Users\\mgi22-031613955\\AppData\\Local\\Temp\\ipykernel_1336\\1126632336.py:15: FutureWarning: Passing literal html to 'read_html' is deprecated and will be removed in a future version. To read from a literal string, wrap it in a 'StringIO' object.\n",
      "  dfs = pd.read_html(str(table))\n"
     ]
    },
    {
     "name": "stdout",
     "output_type": "stream",
     "text": [
      "Data for 17th September 2022 downloaded and saved to C:/Users/mgi22-031613955/OneDrive - IIRS/THESIS/Data/2022/Sept 22/17th_September_22.csv\n"
     ]
    },
    {
     "name": "stderr",
     "output_type": "stream",
     "text": [
      "C:\\Users\\mgi22-031613955\\AppData\\Local\\Temp\\ipykernel_1336\\1126632336.py:15: FutureWarning: Passing literal html to 'read_html' is deprecated and will be removed in a future version. To read from a literal string, wrap it in a 'StringIO' object.\n",
      "  dfs = pd.read_html(str(table))\n"
     ]
    },
    {
     "name": "stdout",
     "output_type": "stream",
     "text": [
      "Data for 18th September 2022 downloaded and saved to C:/Users/mgi22-031613955/OneDrive - IIRS/THESIS/Data/2022/Sept 22/18th_September_22.csv\n"
     ]
    },
    {
     "name": "stderr",
     "output_type": "stream",
     "text": [
      "C:\\Users\\mgi22-031613955\\AppData\\Local\\Temp\\ipykernel_1336\\1126632336.py:15: FutureWarning: Passing literal html to 'read_html' is deprecated and will be removed in a future version. To read from a literal string, wrap it in a 'StringIO' object.\n",
      "  dfs = pd.read_html(str(table))\n"
     ]
    },
    {
     "name": "stdout",
     "output_type": "stream",
     "text": [
      "Data for 19th September 2022 downloaded and saved to C:/Users/mgi22-031613955/OneDrive - IIRS/THESIS/Data/2022/Sept 22/19th_September_22.csv\n"
     ]
    },
    {
     "name": "stderr",
     "output_type": "stream",
     "text": [
      "C:\\Users\\mgi22-031613955\\AppData\\Local\\Temp\\ipykernel_1336\\1126632336.py:15: FutureWarning: Passing literal html to 'read_html' is deprecated and will be removed in a future version. To read from a literal string, wrap it in a 'StringIO' object.\n",
      "  dfs = pd.read_html(str(table))\n"
     ]
    },
    {
     "name": "stdout",
     "output_type": "stream",
     "text": [
      "Data for 20th September 2022 downloaded and saved to C:/Users/mgi22-031613955/OneDrive - IIRS/THESIS/Data/2022/Sept 22/20th_September_22.csv\n"
     ]
    },
    {
     "name": "stderr",
     "output_type": "stream",
     "text": [
      "C:\\Users\\mgi22-031613955\\AppData\\Local\\Temp\\ipykernel_1336\\1126632336.py:15: FutureWarning: Passing literal html to 'read_html' is deprecated and will be removed in a future version. To read from a literal string, wrap it in a 'StringIO' object.\n",
      "  dfs = pd.read_html(str(table))\n"
     ]
    },
    {
     "name": "stdout",
     "output_type": "stream",
     "text": [
      "Data for 21th September 2022 downloaded and saved to C:/Users/mgi22-031613955/OneDrive - IIRS/THESIS/Data/2022/Sept 22/21th_September_22.csv\n"
     ]
    },
    {
     "name": "stderr",
     "output_type": "stream",
     "text": [
      "C:\\Users\\mgi22-031613955\\AppData\\Local\\Temp\\ipykernel_1336\\1126632336.py:15: FutureWarning: Passing literal html to 'read_html' is deprecated and will be removed in a future version. To read from a literal string, wrap it in a 'StringIO' object.\n",
      "  dfs = pd.read_html(str(table))\n"
     ]
    },
    {
     "name": "stdout",
     "output_type": "stream",
     "text": [
      "Data for 22th September 2022 downloaded and saved to C:/Users/mgi22-031613955/OneDrive - IIRS/THESIS/Data/2022/Sept 22/22th_September_22.csv\n"
     ]
    },
    {
     "name": "stderr",
     "output_type": "stream",
     "text": [
      "C:\\Users\\mgi22-031613955\\AppData\\Local\\Temp\\ipykernel_1336\\1126632336.py:15: FutureWarning: Passing literal html to 'read_html' is deprecated and will be removed in a future version. To read from a literal string, wrap it in a 'StringIO' object.\n",
      "  dfs = pd.read_html(str(table))\n"
     ]
    },
    {
     "name": "stdout",
     "output_type": "stream",
     "text": [
      "Data for 23th September 2022 downloaded and saved to C:/Users/mgi22-031613955/OneDrive - IIRS/THESIS/Data/2022/Sept 22/23th_September_22.csv\n"
     ]
    },
    {
     "name": "stderr",
     "output_type": "stream",
     "text": [
      "C:\\Users\\mgi22-031613955\\AppData\\Local\\Temp\\ipykernel_1336\\1126632336.py:15: FutureWarning: Passing literal html to 'read_html' is deprecated and will be removed in a future version. To read from a literal string, wrap it in a 'StringIO' object.\n",
      "  dfs = pd.read_html(str(table))\n"
     ]
    },
    {
     "name": "stdout",
     "output_type": "stream",
     "text": [
      "Data for 24th September 2022 downloaded and saved to C:/Users/mgi22-031613955/OneDrive - IIRS/THESIS/Data/2022/Sept 22/24th_September_22.csv\n"
     ]
    },
    {
     "name": "stderr",
     "output_type": "stream",
     "text": [
      "C:\\Users\\mgi22-031613955\\AppData\\Local\\Temp\\ipykernel_1336\\1126632336.py:15: FutureWarning: Passing literal html to 'read_html' is deprecated and will be removed in a future version. To read from a literal string, wrap it in a 'StringIO' object.\n",
      "  dfs = pd.read_html(str(table))\n"
     ]
    },
    {
     "name": "stdout",
     "output_type": "stream",
     "text": [
      "Data for 25th September 2022 downloaded and saved to C:/Users/mgi22-031613955/OneDrive - IIRS/THESIS/Data/2022/Sept 22/25th_September_22.csv\n"
     ]
    },
    {
     "name": "stderr",
     "output_type": "stream",
     "text": [
      "C:\\Users\\mgi22-031613955\\AppData\\Local\\Temp\\ipykernel_1336\\1126632336.py:15: FutureWarning: Passing literal html to 'read_html' is deprecated and will be removed in a future version. To read from a literal string, wrap it in a 'StringIO' object.\n",
      "  dfs = pd.read_html(str(table))\n"
     ]
    },
    {
     "name": "stdout",
     "output_type": "stream",
     "text": [
      "Data for 26th September 2022 downloaded and saved to C:/Users/mgi22-031613955/OneDrive - IIRS/THESIS/Data/2022/Sept 22/26th_September_22.csv\n"
     ]
    },
    {
     "name": "stderr",
     "output_type": "stream",
     "text": [
      "C:\\Users\\mgi22-031613955\\AppData\\Local\\Temp\\ipykernel_1336\\1126632336.py:15: FutureWarning: Passing literal html to 'read_html' is deprecated and will be removed in a future version. To read from a literal string, wrap it in a 'StringIO' object.\n",
      "  dfs = pd.read_html(str(table))\n"
     ]
    },
    {
     "name": "stdout",
     "output_type": "stream",
     "text": [
      "Data for 27th September 2022 downloaded and saved to C:/Users/mgi22-031613955/OneDrive - IIRS/THESIS/Data/2022/Sept 22/27th_September_22.csv\n"
     ]
    },
    {
     "name": "stderr",
     "output_type": "stream",
     "text": [
      "C:\\Users\\mgi22-031613955\\AppData\\Local\\Temp\\ipykernel_1336\\1126632336.py:15: FutureWarning: Passing literal html to 'read_html' is deprecated and will be removed in a future version. To read from a literal string, wrap it in a 'StringIO' object.\n",
      "  dfs = pd.read_html(str(table))\n"
     ]
    },
    {
     "name": "stdout",
     "output_type": "stream",
     "text": [
      "Data for 28th September 2022 downloaded and saved to C:/Users/mgi22-031613955/OneDrive - IIRS/THESIS/Data/2022/Sept 22/28th_September_22.csv\n"
     ]
    },
    {
     "name": "stderr",
     "output_type": "stream",
     "text": [
      "C:\\Users\\mgi22-031613955\\AppData\\Local\\Temp\\ipykernel_1336\\1126632336.py:15: FutureWarning: Passing literal html to 'read_html' is deprecated and will be removed in a future version. To read from a literal string, wrap it in a 'StringIO' object.\n",
      "  dfs = pd.read_html(str(table))\n"
     ]
    },
    {
     "name": "stdout",
     "output_type": "stream",
     "text": [
      "Data for 29th September 2022 downloaded and saved to C:/Users/mgi22-031613955/OneDrive - IIRS/THESIS/Data/2022/Sept 22/29th_September_22.csv\n",
      "Data for 30th September 2022 downloaded and saved to C:/Users/mgi22-031613955/OneDrive - IIRS/THESIS/Data/2022/Sept 22/30th_September_22.csv\n"
     ]
    },
    {
     "name": "stderr",
     "output_type": "stream",
     "text": [
      "C:\\Users\\mgi22-031613955\\AppData\\Local\\Temp\\ipykernel_1336\\1126632336.py:15: FutureWarning: Passing literal html to 'read_html' is deprecated and will be removed in a future version. To read from a literal string, wrap it in a 'StringIO' object.\n",
      "  dfs = pd.read_html(str(table))\n"
     ]
    }
   ],
   "source": [
    "# Loop through each date\n",
    "for single_date in (start_date + datetime.timedelta(days=n) for n in range((end_date - start_date).days + 1)):\n",
    "    # Construct URL for the current date\n",
    "    url = base_url + single_date.strftime('%Y-%m-%d')\n",
    "    \n",
    "    # Get data from the URL\n",
    "    response = rq.get(url)\n",
    "    html_cont = response.text\n",
    "    soup = bss(html_cont,'html.parser')\n",
    "    table = soup.find('table')\n",
    "    \n",
    "    # Check if table exists\n",
    "    if table:\n",
    "        # Read HTML table into DataFrame\n",
    "        dfs = pd.read_html(str(table))\n",
    "        df = dfs[0]\n",
    "        \n",
    "        # Save DataFrame to CSV file\n",
    "        file_path = f'C:/Users/mgi22-031613955/OneDrive - IIRS/THESIS/Data/2022/Sept 22/{single_date.strftime(\"%dth_%B_%y\")}.csv'\n",
    "        df.to_csv(file_path, index=False)\n",
    "        print(f\"Data for {single_date.strftime('%dth %B %Y')} downloaded and saved to {file_path}\")\n",
    "    else:\n",
    "        print(f\"No data available for {single_date.strftime('%dth %B %Y')}\")"
   ]
  }
 ],
 "metadata": {
  "kernelspec": {
   "display_name": "Python 3 (ipykernel)",
   "language": "python",
   "name": "python3"
  },
  "language_info": {
   "codemirror_mode": {
    "name": "ipython",
    "version": 3
   },
   "file_extension": ".py",
   "mimetype": "text/x-python",
   "name": "python",
   "nbconvert_exporter": "python",
   "pygments_lexer": "ipython3",
   "version": "3.9.13"
  }
 },
 "nbformat": 4,
 "nbformat_minor": 4
}
